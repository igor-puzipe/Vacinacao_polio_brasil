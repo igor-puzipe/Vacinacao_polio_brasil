{
  "nbformat": 4,
  "nbformat_minor": 0,
  "metadata": {
    "colab": {
      "name": "vacinacao_polio_analises.ipynb",
      "provenance": [],
      "authorship_tag": "ABX9TyMM4U0rZImR85dtch8ve9hO",
      "include_colab_link": true
    },
    "kernelspec": {
      "name": "python3",
      "display_name": "Python 3"
    },
    "language_info": {
      "name": "python"
    }
  },
  "cells": [
    {
      "cell_type": "markdown",
      "metadata": {
        "id": "view-in-github",
        "colab_type": "text"
      },
      "source": [
        "<a href=\"https://colab.research.google.com/github/igor-puzipe/Vacinacao_polio_brasil/blob/main/vacinacao_polio_analises.ipynb\" target=\"_parent\"><img src=\"https://colab.research.google.com/assets/colab-badge.svg\" alt=\"Open In Colab\"/></a>"
      ]
    },
    {
      "cell_type": "markdown",
      "metadata": {
        "id": "HrzlrkZelsY6"
      },
      "source": [
        "# Vacinação da Poliomielite no Brasil\n",
        "\n",
        "Neste repositório será analisado dados de vacinação de pólio no Brasil, com foco na região Norte do país"
      ]
    },
    {
      "cell_type": "markdown",
      "metadata": {
        "id": "GZePqf2Zl30a"
      },
      "source": [
        "# Introdução\n",
        "\n",
        "O  motivo de estar analisando em específico a taxa de vacinação de pólio no Brasil, são as notícias mais recentes que alguns sites publicaram, de que a taxa de vacinação vem caíndo nos últimos anos e de que estamos suscetíveis ao retorno da doença no páis. https://valorinveste.globo.com/mercados/brasil-e-politica/noticia/2021/11/16/queda-na-vacinacao-coloca-brasil-em-lista-de-alto-risco-para-a-polio.ghtml\n",
        "\n",
        "Analisaremos a região norte do país, para compararmos com a pesquisa de Barbosa (2021), que faz uma análise profunda sobre tais taxas de vacinação, onde o foco de sua pesquisa foi o norte do páis."
      ]
    },
    {
      "cell_type": "code",
      "metadata": {
        "id": "pjNXc3P2pp6y"
      },
      "source": [
        "#Importando bibliotecas\n",
        "\n",
        "engine='python'\n",
        "import pandas as pd\n",
        "import numpy as np\n",
        "import matplotlib.pyplot as plt\n",
        "import matplotlib.ticker as ticker\n",
        "from matplotlib import colors as mcolors"
      ],
      "execution_count": 1,
      "outputs": []
    },
    {
      "cell_type": "code",
      "metadata": {
        "colab": {
          "base_uri": "https://localhost:8080/"
        },
        "id": "nD_yRb6P0mCZ",
        "outputId": "28fdbf46-79cc-474a-ec42-9ed8a374a824"
      },
      "source": [
        "#Tratamento inicial do banco (decimais, tipo de arquivo, separadores e linhas inutilizadas)\n",
        "\n",
        "cv_polio = pd.read_csv(\"https://raw.githubusercontent.com/igor-puzipe/Vacinacao_polio_brasil/main/Dados/cv_polio_ano.csv\", encoding=\"ISO-8859-1\", \n",
        "                    skiprows=4, sep=\";\", skipfooter=20,\n",
        "                    thousands=\".\", decimal=\",\")\n",
        "dados_pop = pd.read_csv(\"https://raw.githubusercontent.com/igor-puzipe/Vacinacao_polio_brasil/main/Dados/pop_infantil_0a4_anos.csv\", encoding=\"ISO-8859-1\", \n",
        "                    skiprows=5, sep=\";\", skipfooter=4,\n",
        "                     thousands=\".\", decimal=\",\")\n",
        "\n",
        "pd.options.display.float_format=\"{:.2f}\".format"
      ],
      "execution_count": 2,
      "outputs": [
        {
          "output_type": "stream",
          "name": "stderr",
          "text": [
            "/usr/local/lib/python3.7/dist-packages/ipykernel_launcher.py:5: ParserWarning: Falling back to the 'python' engine because the 'c' engine does not support skipfooter; you can avoid this warning by specifying engine='python'.\n",
            "  \"\"\"\n",
            "/usr/local/lib/python3.7/dist-packages/ipykernel_launcher.py:8: ParserWarning: Falling back to the 'python' engine because the 'c' engine does not support skipfooter; you can avoid this warning by specifying engine='python'.\n",
            "  \n"
          ]
        }
      ]
    },
    {
      "cell_type": "code",
      "metadata": {
        "id": "gprdoo-ASfW_"
      },
      "source": [
        "#Retirando a numeração na frente dos nomes dos estados e definindo estados como a coluna principal\n",
        "\n",
        "cv_polio[\"uf\"] = cv_polio[\"Unidade da Federação\"].str.slice(start=3)\n",
        "cv_polio = cv_polio.set_index(\"uf\").drop(\"Unidade da Federação\", axis=1) #drop unidade da federação remove a duplicação de estado que a linha de código gera\n",
        "cv_polio = cv_polio.drop(\"Total\", axis=1) #retirando a coluna total\n",
        "cv_norte = cv_polio.T\n",
        "cv_norte= cv_norte[[\"Roraima\", \"Acre\", \"Amapá\", \"Amazonas\", \"Pará\", \"Rondônia\", \"Tocantins\"]]\n",
        "dados_pop[\"uf\"] = dados_pop[\"Unidade da Federação\"].str.slice(start=3) #função modifica a linha 'total' para 'al'\n",
        "dados_pop = dados_pop.set_index(\"uf\").drop(\"al\", axis=0) #remover 'al' é o mesmo que remover a coluna 'total'\n",
        "dados_pop = dados_pop.drop(\"Unidade da Federação\", axis=1)\n",
        "pop_norte = dados_pop.T\n",
        "pop_norte= pop_norte[[\"Roraima\", \"Acre\", \"Amapá\", \"Amazonas\", \"Pará\", \"Rondônia\", \"Tocantins\"]]"
      ],
      "execution_count": 3,
      "outputs": []
    },
    {
      "cell_type": "markdown",
      "metadata": {
        "id": "rI9Qh3PWmAZv"
      },
      "source": [
        "# Dados\n",
        "Os dados utilizados no projeto estão divididos em dois arquivos, um deles com informções da população infantil diponível para tomar a vacina da poliomielite, o outro arquivo contém os dados de cobertura de vacinação da poliomielite no país.\n",
        "Ambos representam o histórico de 10 anos, tanto de vacinação, quanto de população infantil."
      ]
    },
    {
      "cell_type": "markdown",
      "metadata": {
        "id": "mSv6HlRRdBgU"
      },
      "source": [
        "# População infantil de 0 a 4 anos, dados fornecidos pelo TabNet\n",
        "\n",
        "O motivo de utilizar os dados da população infantil é que a vacina da poliomielite é aplicada a crianças de 2 meses até menores de 5 anos, portanto, a faixa de idade selecionada é a população disponível para tomar a vacina."
      ]
    },
    {
      "cell_type": "code",
      "metadata": {
        "colab": {
          "base_uri": "https://localhost:8080/",
          "height": 359
        },
        "id": "Ytk40JUiY8VU",
        "outputId": "1ee2fd4b-249d-48c8-b1fa-724e9b93d411"
      },
      "source": [
        "pop_norte"
      ],
      "execution_count": 7,
      "outputs": [
        {
          "output_type": "execute_result",
          "data": {
            "text/html": [
              "<div>\n",
              "<style scoped>\n",
              "    .dataframe tbody tr th:only-of-type {\n",
              "        vertical-align: middle;\n",
              "    }\n",
              "\n",
              "    .dataframe tbody tr th {\n",
              "        vertical-align: top;\n",
              "    }\n",
              "\n",
              "    .dataframe thead th {\n",
              "        text-align: right;\n",
              "    }\n",
              "</style>\n",
              "<table border=\"1\" class=\"dataframe\">\n",
              "  <thead>\n",
              "    <tr style=\"text-align: right;\">\n",
              "      <th>uf</th>\n",
              "      <th>Roraima</th>\n",
              "      <th>Acre</th>\n",
              "      <th>Amapá</th>\n",
              "      <th>Amazonas</th>\n",
              "      <th>Pará</th>\n",
              "      <th>Rondônia</th>\n",
              "      <th>Tocantins</th>\n",
              "    </tr>\n",
              "  </thead>\n",
              "  <tbody>\n",
              "    <tr>\n",
              "      <th>2010</th>\n",
              "      <td>50711</td>\n",
              "      <td>90458</td>\n",
              "      <td>79189</td>\n",
              "      <td>401044</td>\n",
              "      <td>797433</td>\n",
              "      <td>136436</td>\n",
              "      <td>131747</td>\n",
              "    </tr>\n",
              "    <tr>\n",
              "      <th>2011</th>\n",
              "      <td>51445</td>\n",
              "      <td>88578</td>\n",
              "      <td>79467</td>\n",
              "      <td>400499</td>\n",
              "      <td>782470</td>\n",
              "      <td>134343</td>\n",
              "      <td>129395</td>\n",
              "    </tr>\n",
              "    <tr>\n",
              "      <th>2012</th>\n",
              "      <td>51852</td>\n",
              "      <td>87495</td>\n",
              "      <td>79276</td>\n",
              "      <td>401135</td>\n",
              "      <td>766883</td>\n",
              "      <td>133371</td>\n",
              "      <td>127957</td>\n",
              "    </tr>\n",
              "    <tr>\n",
              "      <th>2013</th>\n",
              "      <td>52087</td>\n",
              "      <td>85792</td>\n",
              "      <td>79232</td>\n",
              "      <td>402072</td>\n",
              "      <td>750588</td>\n",
              "      <td>133100</td>\n",
              "      <td>126607</td>\n",
              "    </tr>\n",
              "    <tr>\n",
              "      <th>2014</th>\n",
              "      <td>52447</td>\n",
              "      <td>84870</td>\n",
              "      <td>79398</td>\n",
              "      <td>404171</td>\n",
              "      <td>739204</td>\n",
              "      <td>133760</td>\n",
              "      <td>125667</td>\n",
              "    </tr>\n",
              "    <tr>\n",
              "      <th>2015</th>\n",
              "      <td>52931</td>\n",
              "      <td>85420</td>\n",
              "      <td>79722</td>\n",
              "      <td>408138</td>\n",
              "      <td>734749</td>\n",
              "      <td>135292</td>\n",
              "      <td>125808</td>\n",
              "    </tr>\n",
              "    <tr>\n",
              "      <th>2016</th>\n",
              "      <td>53503</td>\n",
              "      <td>84882</td>\n",
              "      <td>80137</td>\n",
              "      <td>409533</td>\n",
              "      <td>727703</td>\n",
              "      <td>136504</td>\n",
              "      <td>124837</td>\n",
              "    </tr>\n",
              "    <tr>\n",
              "      <th>2017</th>\n",
              "      <td>54616</td>\n",
              "      <td>83850</td>\n",
              "      <td>80866</td>\n",
              "      <td>408846</td>\n",
              "      <td>722199</td>\n",
              "      <td>137670</td>\n",
              "      <td>124055</td>\n",
              "    </tr>\n",
              "    <tr>\n",
              "      <th>2018</th>\n",
              "      <td>56192</td>\n",
              "      <td>83908</td>\n",
              "      <td>81129</td>\n",
              "      <td>408742</td>\n",
              "      <td>722380</td>\n",
              "      <td>139155</td>\n",
              "      <td>124911</td>\n",
              "    </tr>\n",
              "    <tr>\n",
              "      <th>2019</th>\n",
              "      <td>57800</td>\n",
              "      <td>83568</td>\n",
              "      <td>80698</td>\n",
              "      <td>406547</td>\n",
              "      <td>720553</td>\n",
              "      <td>139897</td>\n",
              "      <td>125433</td>\n",
              "    </tr>\n",
              "  </tbody>\n",
              "</table>\n",
              "</div>"
            ],
            "text/plain": [
              "uf    Roraima   Acre  Amapá  Amazonas    Pará  Rondônia  Tocantins\n",
              "2010    50711  90458  79189    401044  797433    136436     131747\n",
              "2011    51445  88578  79467    400499  782470    134343     129395\n",
              "2012    51852  87495  79276    401135  766883    133371     127957\n",
              "2013    52087  85792  79232    402072  750588    133100     126607\n",
              "2014    52447  84870  79398    404171  739204    133760     125667\n",
              "2015    52931  85420  79722    408138  734749    135292     125808\n",
              "2016    53503  84882  80137    409533  727703    136504     124837\n",
              "2017    54616  83850  80866    408846  722199    137670     124055\n",
              "2018    56192  83908  81129    408742  722380    139155     124911\n",
              "2019    57800  83568  80698    406547  720553    139897     125433"
            ]
          },
          "metadata": {},
          "execution_count": 7
        }
      ]
    },
    {
      "cell_type": "markdown",
      "metadata": {
        "id": "WfV_ktv1dLKk"
      },
      "source": [
        "# Cobertura de vacinas da Poliomielite no Norte do País\n",
        "Como uma das fontes de estudo se trata de um artigo referente a região norte do país, serão utilizados apenas tais estados."
      ]
    },
    {
      "cell_type": "code",
      "metadata": {
        "colab": {
          "base_uri": "https://localhost:8080/",
          "height": 359
        },
        "id": "Ny8UPNogaOPg",
        "outputId": "12c3ac1d-da88-422b-cb34-87ff675f2f60"
      },
      "source": [
        "cv_norte"
      ],
      "execution_count": 5,
      "outputs": [
        {
          "output_type": "execute_result",
          "data": {
            "text/html": [
              "<div>\n",
              "<style scoped>\n",
              "    .dataframe tbody tr th:only-of-type {\n",
              "        vertical-align: middle;\n",
              "    }\n",
              "\n",
              "    .dataframe tbody tr th {\n",
              "        vertical-align: top;\n",
              "    }\n",
              "\n",
              "    .dataframe thead th {\n",
              "        text-align: right;\n",
              "    }\n",
              "</style>\n",
              "<table border=\"1\" class=\"dataframe\">\n",
              "  <thead>\n",
              "    <tr style=\"text-align: right;\">\n",
              "      <th>uf</th>\n",
              "      <th>Roraima</th>\n",
              "      <th>Acre</th>\n",
              "      <th>Amapá</th>\n",
              "      <th>Amazonas</th>\n",
              "      <th>Pará</th>\n",
              "      <th>Rondônia</th>\n",
              "      <th>Tocantins</th>\n",
              "    </tr>\n",
              "  </thead>\n",
              "  <tbody>\n",
              "    <tr>\n",
              "      <th>2010</th>\n",
              "      <td>9318</td>\n",
              "      <td>17536</td>\n",
              "      <td>12974</td>\n",
              "      <td>69942</td>\n",
              "      <td>147442</td>\n",
              "      <td>26389</td>\n",
              "      <td>24213</td>\n",
              "    </tr>\n",
              "    <tr>\n",
              "      <th>2011</th>\n",
              "      <td>9203</td>\n",
              "      <td>18717</td>\n",
              "      <td>12092</td>\n",
              "      <td>65908</td>\n",
              "      <td>144821</td>\n",
              "      <td>27986</td>\n",
              "      <td>24813</td>\n",
              "    </tr>\n",
              "    <tr>\n",
              "      <th>2012</th>\n",
              "      <td>8554</td>\n",
              "      <td>16194</td>\n",
              "      <td>13248</td>\n",
              "      <td>69525</td>\n",
              "      <td>139453</td>\n",
              "      <td>27559</td>\n",
              "      <td>23101</td>\n",
              "    </tr>\n",
              "    <tr>\n",
              "      <th>2013</th>\n",
              "      <td>8543</td>\n",
              "      <td>16509</td>\n",
              "      <td>14101</td>\n",
              "      <td>73694</td>\n",
              "      <td>137661</td>\n",
              "      <td>27664</td>\n",
              "      <td>24278</td>\n",
              "    </tr>\n",
              "    <tr>\n",
              "      <th>2014</th>\n",
              "      <td>9490</td>\n",
              "      <td>12585</td>\n",
              "      <td>12007</td>\n",
              "      <td>76499</td>\n",
              "      <td>116248</td>\n",
              "      <td>28654</td>\n",
              "      <td>22076</td>\n",
              "    </tr>\n",
              "    <tr>\n",
              "      <th>2015</th>\n",
              "      <td>12131</td>\n",
              "      <td>14078</td>\n",
              "      <td>14489</td>\n",
              "      <td>82643</td>\n",
              "      <td>100218</td>\n",
              "      <td>28514</td>\n",
              "      <td>23434</td>\n",
              "    </tr>\n",
              "    <tr>\n",
              "      <th>2016</th>\n",
              "      <td>9820</td>\n",
              "      <td>12167</td>\n",
              "      <td>7721</td>\n",
              "      <td>61556</td>\n",
              "      <td>90485</td>\n",
              "      <td>29049</td>\n",
              "      <td>21142</td>\n",
              "    </tr>\n",
              "    <tr>\n",
              "      <th>2017</th>\n",
              "      <td>9716</td>\n",
              "      <td>12612</td>\n",
              "      <td>10364</td>\n",
              "      <td>61601</td>\n",
              "      <td>96257</td>\n",
              "      <td>29923</td>\n",
              "      <td>21431</td>\n",
              "    </tr>\n",
              "    <tr>\n",
              "      <th>2018</th>\n",
              "      <td>9089</td>\n",
              "      <td>12207</td>\n",
              "      <td>10650</td>\n",
              "      <td>60189</td>\n",
              "      <td>93892</td>\n",
              "      <td>27046</td>\n",
              "      <td>21697</td>\n",
              "    </tr>\n",
              "    <tr>\n",
              "      <th>2019</th>\n",
              "      <td>6132</td>\n",
              "      <td>8156</td>\n",
              "      <td>7219</td>\n",
              "      <td>42999</td>\n",
              "      <td>59386</td>\n",
              "      <td>15704</td>\n",
              "      <td>14698</td>\n",
              "    </tr>\n",
              "  </tbody>\n",
              "</table>\n",
              "</div>"
            ],
            "text/plain": [
              "uf    Roraima   Acre  Amapá  Amazonas    Pará  Rondônia  Tocantins\n",
              "2010     9318  17536  12974     69942  147442     26389      24213\n",
              "2011     9203  18717  12092     65908  144821     27986      24813\n",
              "2012     8554  16194  13248     69525  139453     27559      23101\n",
              "2013     8543  16509  14101     73694  137661     27664      24278\n",
              "2014     9490  12585  12007     76499  116248     28654      22076\n",
              "2015    12131  14078  14489     82643  100218     28514      23434\n",
              "2016     9820  12167   7721     61556   90485     29049      21142\n",
              "2017     9716  12612  10364     61601   96257     29923      21431\n",
              "2018     9089  12207  10650     60189   93892     27046      21697\n",
              "2019     6132   8156   7219     42999   59386     15704      14698"
            ]
          },
          "metadata": {},
          "execution_count": 5
        }
      ]
    },
    {
      "cell_type": "code",
      "metadata": {
        "id": "9swuRlo0craA"
      },
      "source": [
        ""
      ],
      "execution_count": 5,
      "outputs": []
    },
    {
      "cell_type": "markdown",
      "metadata": {
        "id": "hjwskaPKmblH"
      },
      "source": [
        "# Referencias Bibliográficas\n",
        "\n",
        "BARBOSA, Camila Leal et al. Cobertura vacinal para Poliomielite na Amazônia brasileira e os riscos à reintrodução do poliovírus. Research, Society and Development, v. 10, n. 7, p. e42810716768-e42810716768, 2021."
      ]
    }
  ]
}