{
  "nbformat": 4,
  "nbformat_minor": 0,
  "metadata": {
    "colab": {
      "name": "vacinacao_polio_analises.ipynb",
      "provenance": [],
      "authorship_tag": "ABX9TyPQRcJv5gpqriM5Mn7NxfRU",
      "include_colab_link": true
    },
    "kernelspec": {
      "name": "python3",
      "display_name": "Python 3"
    },
    "language_info": {
      "name": "python"
    }
  },
  "cells": [
    {
      "cell_type": "markdown",
      "metadata": {
        "id": "view-in-github",
        "colab_type": "text"
      },
      "source": [
        "<a href=\"https://colab.research.google.com/github/igor-puzipe/Vacinacao_polio_brasil/blob/main/Notebook/vacinacao_polio_analises.ipynb\" target=\"_parent\"><img src=\"https://colab.research.google.com/assets/colab-badge.svg\" alt=\"Open In Colab\"/></a>"
      ]
    },
    {
      "cell_type": "code",
      "metadata": {
        "id": "pjNXc3P2pp6y"
      },
      "source": [
        "#Importando bibliotecas\n",
        "\n",
        "engine='python'\n",
        "import pandas as pd\n",
        "import numpy as np\n",
        "import matplotlib.pyplot as plt\n",
        "import matplotlib.ticker as ticker\n",
        "from matplotlib import colors as mcolors"
      ],
      "execution_count": 1,
      "outputs": []
    },
    {
      "cell_type": "code",
      "metadata": {
        "colab": {
          "base_uri": "https://localhost:8080/"
        },
        "id": "nD_yRb6P0mCZ",
        "outputId": "b9800096-ae41-46e0-eda2-ef38a0246289"
      },
      "source": [
        "#Tratamento inicial do banco (decimais, tipo de arquivo, separadores e linhas inutilizadas)\n",
        "\n",
        "cv_polio = pd.read_csv(\"https://raw.githubusercontent.com/igor-puzipe/Vacinacao_polio_brasil/main/Dados/cv_polio_ano.csv\", encoding=\"ISO-8859-1\", \n",
        "                    skiprows=4, sep=\";\", skipfooter=20,\n",
        "                    thousands=\".\", decimal=\",\")\n",
        "dados_pop = pd.read_csv(\"https://raw.githubusercontent.com/igor-puzipe/Vacinacao_polio_brasil/main/Dados/pop_infantil_0a4_anos.csv\", encoding=\"ISO-8859-1\", \n",
        "                    skiprows=5, sep=\";\", skipfooter=4,\n",
        "                     thousands=\".\", decimal=\",\")\n",
        "\n",
        "pd.options.display.float_format=\"{:.2f}\".format"
      ],
      "execution_count": 2,
      "outputs": [
        {
          "output_type": "stream",
          "name": "stderr",
          "text": [
            "/usr/local/lib/python3.7/dist-packages/ipykernel_launcher.py:5: ParserWarning: Falling back to the 'python' engine because the 'c' engine does not support skipfooter; you can avoid this warning by specifying engine='python'.\n",
            "  \"\"\"\n",
            "/usr/local/lib/python3.7/dist-packages/ipykernel_launcher.py:8: ParserWarning: Falling back to the 'python' engine because the 'c' engine does not support skipfooter; you can avoid this warning by specifying engine='python'.\n",
            "  \n"
          ]
        }
      ]
    },
    {
      "cell_type": "code",
      "metadata": {
        "id": "gprdoo-ASfW_"
      },
      "source": [
        "#Retirando a numeração na frente dos nomes dos estados e definindo estados como a coluna principal\n",
        "\n",
        "cv_polio[\"uf\"] = cv_polio[\"Unidade da Federação\"].str.slice(start=3)\n",
        "cv_polio = cv_polio.set_index(\"uf\").drop(\"Unidade da Federação\", axis=1) #drop unidade da federação remove a duplicação de estado que a linha de código gera\n",
        "cv_polio = cv_polio.drop(\"Total\", axis=1) #retirando a coluna total\n",
        "dados_pop[\"uf\"] = dados_pop[\"Unidade da Federação\"].str.slice(start=3) #função modifica a linha 'total' para 'al'\n",
        "dados_pop = dados_pop.set_index(\"uf\").drop(\"al\", axis=0) #remover 'al' é o mesmo que remover a coluna 'total'\n",
        "dados_pop = dados_pop.drop(\"Unidade da Federação\", axis=1)\n"
      ],
      "execution_count": 3,
      "outputs": []
    },
    {
      "cell_type": "markdown",
      "metadata": {
        "id": "mSv6HlRRdBgU"
      },
      "source": [
        "# População infantil de 0 a 4 anos, dados fornecidos pelo TabNet\n",
        "\n",
        "O motivo de utilizar os dados da população infantil é que a vacina da poliomielite é aplicada a crianças de 2 meses até menores de 5 anos, portanto, a faixa de idade selecionada é a população disponível para tomar a vacina."
      ]
    },
    {
      "cell_type": "code",
      "metadata": {
        "colab": {
          "base_uri": "https://localhost:8080/",
          "height": 235
        },
        "id": "Ytk40JUiY8VU",
        "outputId": "201f7ea4-a53b-4081-b346-00663faada17"
      },
      "source": [
        "dados_pop.head()"
      ],
      "execution_count": 4,
      "outputs": [
        {
          "output_type": "execute_result",
          "data": {
            "text/html": [
              "<div>\n",
              "<style scoped>\n",
              "    .dataframe tbody tr th:only-of-type {\n",
              "        vertical-align: middle;\n",
              "    }\n",
              "\n",
              "    .dataframe tbody tr th {\n",
              "        vertical-align: top;\n",
              "    }\n",
              "\n",
              "    .dataframe thead th {\n",
              "        text-align: right;\n",
              "    }\n",
              "</style>\n",
              "<table border=\"1\" class=\"dataframe\">\n",
              "  <thead>\n",
              "    <tr style=\"text-align: right;\">\n",
              "      <th></th>\n",
              "      <th>2010</th>\n",
              "      <th>2011</th>\n",
              "      <th>2012</th>\n",
              "      <th>2013</th>\n",
              "      <th>2014</th>\n",
              "      <th>2015</th>\n",
              "      <th>2016</th>\n",
              "      <th>2017</th>\n",
              "      <th>2018</th>\n",
              "      <th>2019</th>\n",
              "    </tr>\n",
              "    <tr>\n",
              "      <th>uf</th>\n",
              "      <th></th>\n",
              "      <th></th>\n",
              "      <th></th>\n",
              "      <th></th>\n",
              "      <th></th>\n",
              "      <th></th>\n",
              "      <th></th>\n",
              "      <th></th>\n",
              "      <th></th>\n",
              "      <th></th>\n",
              "    </tr>\n",
              "  </thead>\n",
              "  <tbody>\n",
              "    <tr>\n",
              "      <th>Rondônia</th>\n",
              "      <td>136436</td>\n",
              "      <td>134343</td>\n",
              "      <td>133371</td>\n",
              "      <td>133100</td>\n",
              "      <td>133760</td>\n",
              "      <td>135292</td>\n",
              "      <td>136504</td>\n",
              "      <td>137670</td>\n",
              "      <td>139155</td>\n",
              "      <td>139897</td>\n",
              "    </tr>\n",
              "    <tr>\n",
              "      <th>Acre</th>\n",
              "      <td>90458</td>\n",
              "      <td>88578</td>\n",
              "      <td>87495</td>\n",
              "      <td>85792</td>\n",
              "      <td>84870</td>\n",
              "      <td>85420</td>\n",
              "      <td>84882</td>\n",
              "      <td>83850</td>\n",
              "      <td>83908</td>\n",
              "      <td>83568</td>\n",
              "    </tr>\n",
              "    <tr>\n",
              "      <th>Amazonas</th>\n",
              "      <td>401044</td>\n",
              "      <td>400499</td>\n",
              "      <td>401135</td>\n",
              "      <td>402072</td>\n",
              "      <td>404171</td>\n",
              "      <td>408138</td>\n",
              "      <td>409533</td>\n",
              "      <td>408846</td>\n",
              "      <td>408742</td>\n",
              "      <td>406547</td>\n",
              "    </tr>\n",
              "    <tr>\n",
              "      <th>Roraima</th>\n",
              "      <td>50711</td>\n",
              "      <td>51445</td>\n",
              "      <td>51852</td>\n",
              "      <td>52087</td>\n",
              "      <td>52447</td>\n",
              "      <td>52931</td>\n",
              "      <td>53503</td>\n",
              "      <td>54616</td>\n",
              "      <td>56192</td>\n",
              "      <td>57800</td>\n",
              "    </tr>\n",
              "    <tr>\n",
              "      <th>Pará</th>\n",
              "      <td>797433</td>\n",
              "      <td>782470</td>\n",
              "      <td>766883</td>\n",
              "      <td>750588</td>\n",
              "      <td>739204</td>\n",
              "      <td>734749</td>\n",
              "      <td>727703</td>\n",
              "      <td>722199</td>\n",
              "      <td>722380</td>\n",
              "      <td>720553</td>\n",
              "    </tr>\n",
              "  </tbody>\n",
              "</table>\n",
              "</div>"
            ],
            "text/plain": [
              "            2010    2011    2012    2013  ...    2016    2017    2018    2019\n",
              "uf                                        ...                                \n",
              "Rondônia  136436  134343  133371  133100  ...  136504  137670  139155  139897\n",
              "Acre       90458   88578   87495   85792  ...   84882   83850   83908   83568\n",
              "Amazonas  401044  400499  401135  402072  ...  409533  408846  408742  406547\n",
              "Roraima    50711   51445   51852   52087  ...   53503   54616   56192   57800\n",
              "Pará      797433  782470  766883  750588  ...  727703  722199  722380  720553\n",
              "\n",
              "[5 rows x 10 columns]"
            ]
          },
          "metadata": {},
          "execution_count": 4
        }
      ]
    },
    {
      "cell_type": "markdown",
      "metadata": {
        "id": "WfV_ktv1dLKk"
      },
      "source": [
        "# Cobertura de vacinas da Poliomielite no Norte do País\n",
        "Como uma das fontes de estudo se trata de um artigo referente a região norte do país, serão utilizados apenas tais estados."
      ]
    },
    {
      "cell_type": "code",
      "metadata": {
        "colab": {
          "base_uri": "https://localhost:8080/",
          "height": 235
        },
        "id": "Ny8UPNogaOPg",
        "outputId": "8970c9d4-f49b-4fbd-a808-32146766f4d2"
      },
      "source": [
        "cv_polio.head()"
      ],
      "execution_count": 5,
      "outputs": [
        {
          "output_type": "execute_result",
          "data": {
            "text/html": [
              "<div>\n",
              "<style scoped>\n",
              "    .dataframe tbody tr th:only-of-type {\n",
              "        vertical-align: middle;\n",
              "    }\n",
              "\n",
              "    .dataframe tbody tr th {\n",
              "        vertical-align: top;\n",
              "    }\n",
              "\n",
              "    .dataframe thead th {\n",
              "        text-align: right;\n",
              "    }\n",
              "</style>\n",
              "<table border=\"1\" class=\"dataframe\">\n",
              "  <thead>\n",
              "    <tr style=\"text-align: right;\">\n",
              "      <th></th>\n",
              "      <th>2010</th>\n",
              "      <th>2011</th>\n",
              "      <th>2012</th>\n",
              "      <th>2013</th>\n",
              "      <th>2014</th>\n",
              "      <th>2015</th>\n",
              "      <th>2016</th>\n",
              "      <th>2017</th>\n",
              "      <th>2018</th>\n",
              "      <th>2019</th>\n",
              "    </tr>\n",
              "    <tr>\n",
              "      <th>uf</th>\n",
              "      <th></th>\n",
              "      <th></th>\n",
              "      <th></th>\n",
              "      <th></th>\n",
              "      <th></th>\n",
              "      <th></th>\n",
              "      <th></th>\n",
              "      <th></th>\n",
              "      <th></th>\n",
              "      <th></th>\n",
              "    </tr>\n",
              "  </thead>\n",
              "  <tbody>\n",
              "    <tr>\n",
              "      <th>Rondônia</th>\n",
              "      <td>26389</td>\n",
              "      <td>27986</td>\n",
              "      <td>27559</td>\n",
              "      <td>27664</td>\n",
              "      <td>28654</td>\n",
              "      <td>28514</td>\n",
              "      <td>29049</td>\n",
              "      <td>29923</td>\n",
              "      <td>27046</td>\n",
              "      <td>15704</td>\n",
              "    </tr>\n",
              "    <tr>\n",
              "      <th>Acre</th>\n",
              "      <td>17536</td>\n",
              "      <td>18717</td>\n",
              "      <td>16194</td>\n",
              "      <td>16509</td>\n",
              "      <td>12585</td>\n",
              "      <td>14078</td>\n",
              "      <td>12167</td>\n",
              "      <td>12612</td>\n",
              "      <td>12207</td>\n",
              "      <td>8156</td>\n",
              "    </tr>\n",
              "    <tr>\n",
              "      <th>Amazonas</th>\n",
              "      <td>69942</td>\n",
              "      <td>65908</td>\n",
              "      <td>69525</td>\n",
              "      <td>73694</td>\n",
              "      <td>76499</td>\n",
              "      <td>82643</td>\n",
              "      <td>61556</td>\n",
              "      <td>61601</td>\n",
              "      <td>60189</td>\n",
              "      <td>42999</td>\n",
              "    </tr>\n",
              "    <tr>\n",
              "      <th>Roraima</th>\n",
              "      <td>9318</td>\n",
              "      <td>9203</td>\n",
              "      <td>8554</td>\n",
              "      <td>8543</td>\n",
              "      <td>9490</td>\n",
              "      <td>12131</td>\n",
              "      <td>9820</td>\n",
              "      <td>9716</td>\n",
              "      <td>9089</td>\n",
              "      <td>6132</td>\n",
              "    </tr>\n",
              "    <tr>\n",
              "      <th>Pará</th>\n",
              "      <td>147442</td>\n",
              "      <td>144821</td>\n",
              "      <td>139453</td>\n",
              "      <td>137661</td>\n",
              "      <td>116248</td>\n",
              "      <td>100218</td>\n",
              "      <td>90485</td>\n",
              "      <td>96257</td>\n",
              "      <td>93892</td>\n",
              "      <td>59386</td>\n",
              "    </tr>\n",
              "  </tbody>\n",
              "</table>\n",
              "</div>"
            ],
            "text/plain": [
              "            2010    2011    2012    2013  ...   2016   2017   2018   2019\n",
              "uf                                        ...                            \n",
              "Rondônia   26389   27986   27559   27664  ...  29049  29923  27046  15704\n",
              "Acre       17536   18717   16194   16509  ...  12167  12612  12207   8156\n",
              "Amazonas   69942   65908   69525   73694  ...  61556  61601  60189  42999\n",
              "Roraima     9318    9203    8554    8543  ...   9820   9716   9089   6132\n",
              "Pará      147442  144821  139453  137661  ...  90485  96257  93892  59386\n",
              "\n",
              "[5 rows x 10 columns]"
            ]
          },
          "metadata": {},
          "execution_count": 5
        }
      ]
    },
    {
      "cell_type": "code",
      "metadata": {
        "id": "9swuRlo0craA"
      },
      "source": [
        ""
      ],
      "execution_count": 5,
      "outputs": []
    }
  ]
}